{
 "cells": [
  {
   "cell_type": "code",
   "execution_count": 7,
   "metadata": {
    "collapsed": true
   },
   "outputs": [],
   "source": [
    "import numpy as np\n",
    "import json\n"
   ]
  },
  {
   "cell_type": "code",
   "execution_count": 8,
   "metadata": {
    "collapsed": false
   },
   "outputs": [],
   "source": [
    "json_data=open(\"data.json\").read()"
   ]
  },
  {
   "cell_type": "code",
   "execution_count": 9,
   "metadata": {
    "collapsed": false
   },
   "outputs": [],
   "source": [
    "data = json.loads(json_data)"
   ]
  },
  {
   "cell_type": "code",
   "execution_count": 26,
   "metadata": {
    "collapsed": false
   },
   "outputs": [
    {
     "name": "stdout",
     "output_type": "stream",
     "text": [
      "[{'time': '1974-04-14T21:48:21.900Z', 'depth': 4, 'updated': '2013-02-08T21:36:41.821Z', 'type': 'earthquake', 'magType': 'mb', 'net': 'pde', 'latitude': -20.898, 'place': 'Loyalty Islands, New Caledonia', 'dmin': '', 'id': 'pde19740414214821900_4', 'gap': '', 'longitude': 168.672, 'mag': 5.4, 'rms': '', 'nst': ''}, {'time': '1974-04-14T18:24:58.300Z', 'depth': 33, 'updated': '2013-02-08T21:36:41.819Z', 'type': 'earthquake', 'magType': 'mb', 'net': 'pde', 'latitude': -20.9, 'place': 'Loyalty Islands, New Caledonia', 'dmin': '', 'id': 'pde19740414182458300_33', 'gap': '', 'longitude': 168.507, 'mag': 5, 'rms': '', 'nst': ''}, {'time': '1974-04-14T11:38:21.300Z', 'depth': 33, 'updated': '2013-02-08T21:36:41.815Z', 'type': 'earthquake', 'magType': 'mb', 'net': 'pde', 'latitude': 25.945, 'place': 'Ryukyu Islands, Japan', 'dmin': '', 'id': 'pde19740414113821300_33', 'gap': '', 'longitude': 128.457, 'mag': 5.1, 'rms': '', 'nst': ''}, {'time': '1974-04-14T11:16:44.200Z', 'depth': 100, 'updated': '2013-02-08T21:36:41.813Z', 'type': 'earthquake', 'magType': 'mb', 'net': 'pde', 'latitude': -5.038, 'place': 'New Guinea, Papua New Guinea', 'dmin': '', 'id': 'pde19740414111644200_100', 'gap': '', 'longitude': 143.947, 'mag': 5.2, 'rms': '', 'nst': ''}, {'time': '1974-04-14T10:43:31.200Z', 'depth': 33, 'updated': '2013-02-08T21:36:41.812Z', 'type': 'earthquake', 'magType': 'mb', 'net': 'pde', 'latitude': 25.991, 'place': 'Ryukyu Islands, Japan', 'dmin': '', 'id': 'pde19740414104331200_33', 'gap': '', 'longitude': 128.492, 'mag': 5.1, 'rms': '', 'nst': ''}]\n"
     ]
    }
   ],
   "source": [
    "print(data[0:5])"
   ]
  },
  {
   "cell_type": "code",
   "execution_count": 31,
   "metadata": {
    "collapsed": false
   },
   "outputs": [
    {
     "name": "stdout",
     "output_type": "stream",
     "text": [
      "[-62.508, 166.001, 5.6, 86.753, 68.148, 5.5]\n"
     ]
    }
   ],
   "source": [
    "first_year = []\n",
    "second_year = []\n",
    "third_year = []\n",
    "fourth_year = []\n",
    "fifth_year = []\n",
    "sixth_year = []\n",
    "seventh_year = []\n",
    "eighth_year = []\n",
    "ninth_year = []\n",
    "tenth_year= []\n",
    "\n",
    "for i in data: \n",
    "    if i['time'][0:4] == \"1964\": \n",
    "        first_year.append(i['latitude'])\n",
    "        first_year.append(i['longitude'])\n",
    "        first_year.append(i['mag'])\n",
    "\n",
    "        "
   ]
  },
  {
   "cell_type": "code",
   "execution_count": 27,
   "metadata": {
    "collapsed": false
   },
   "outputs": [
    {
     "name": "stdout",
     "output_type": "stream",
     "text": [
      "1974\n"
     ]
    }
   ],
   "source": [
    "print(data[0]['time'][0:4])"
   ]
  },
  {
   "cell_type": "code",
   "execution_count": 28,
   "metadata": {
    "collapsed": false
   },
   "outputs": [
    {
     "data": {
      "text/plain": [
       "str"
      ]
     },
     "execution_count": 28,
     "metadata": {},
     "output_type": "execute_result"
    }
   ],
   "source": [
    "type(data[0]['time'][0:4])"
   ]
  },
  {
   "cell_type": "code",
   "execution_count": null,
   "metadata": {
    "collapsed": true
   },
   "outputs": [],
   "source": []
  }
 ],
 "metadata": {
  "anaconda-cloud": {},
  "kernelspec": {
   "display_name": "Python [Root]",
   "language": "python",
   "name": "Python [Root]"
  },
  "language_info": {
   "codemirror_mode": {
    "name": "ipython",
    "version": 3
   },
   "file_extension": ".py",
   "mimetype": "text/x-python",
   "name": "python",
   "nbconvert_exporter": "python",
   "pygments_lexer": "ipython3",
   "version": "3.5.2"
  }
 },
 "nbformat": 4,
 "nbformat_minor": 0
}
